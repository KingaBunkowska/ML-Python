{
 "cells": [
  {
   "cell_type": "code",
   "execution_count": 1,
   "id": "3241cf75",
   "metadata": {},
   "outputs": [
    {
     "name": "stderr",
     "output_type": "stream",
     "text": [
      "C:\\Users\\tcx7\\anaconda3\\lib\\site-packages\\scipy\\__init__.py:146: UserWarning: A NumPy version >=1.16.5 and <1.23.0 is required for this version of SciPy (detected version 1.23.4\n",
      "  warnings.warn(f\"A NumPy version >={np_minversion} and <{np_maxversion}\"\n"
     ]
    }
   ],
   "source": [
    "import matplotlib.pyplot as plt\n",
    "import torch as nn\n",
    "import numpy as np\n",
    "import csv\n",
    "import seaborn as sns\n",
    "import pandas as pd\n",
    "\n",
    "from sklearn.preprocessing import StandardScaler\n",
    "from sklearn.linear_model import LinearRegression, Ridge, Lasso\n",
    "from sklearn.model_selection import train_test_split"
   ]
  },
  {
   "cell_type": "code",
   "execution_count": 2,
   "id": "4c7fa813",
   "metadata": {},
   "outputs": [
    {
     "name": "stdout",
     "output_type": "stream",
     "text": [
      "[['Sex' 'Length' 'Diameter' ... 'Viscera Weight' 'Shell Weight' 'Age']\n",
      " ['F' '1.4375' '1.175' ... '5.5848515' '6.747181' '9']\n",
      " ['M' '0.8875' '0.65' ... '1.37495075' '1.5592225' '6']\n",
      " ...\n",
      " ['I' '0.625' '0.4625' ... '0.52446575' '0.63786375' '5']\n",
      " ['I' '1.0625' '0.775' ... '2.33883375' '2.9766975' '6']\n",
      " ['I' '0.7875' '0.6125' ... '1.34660125' '1.417475' '8']]\n"
     ]
    }
   ],
   "source": [
    "content = []\n",
    "with open(\"CrabAgePrediction.csv\") as openfile:\n",
    "    for line in openfile:\n",
    "        content.append(line[:-1].split(','))\n",
    "        \n",
    "dataset = np.array(content)\n",
    "print(dataset)"
   ]
  },
  {
   "cell_type": "code",
   "execution_count": 3,
   "id": "2708d3dd",
   "metadata": {},
   "outputs": [],
   "source": [
    "for i in range(1, len(dataset)):\n",
    "    if dataset[i][0] == 'F':\n",
    "        dataset[i][0] = 0\n",
    "    if dataset[i][0] == 'M':\n",
    "        dataset[i][0] = 1\n",
    "    if dataset[i][0] == 'I':\n",
    "        dataset[i][0] = 0.5"
   ]
  },
  {
   "cell_type": "code",
   "execution_count": 43,
   "id": "01fa3bf1",
   "metadata": {
    "scrolled": true
   },
   "outputs": [
    {
     "data": {
      "text/plain": [
       "<seaborn.axisgrid.FacetGrid at 0x15464009a60>"
      ]
     },
     "execution_count": 43,
     "metadata": {},
     "output_type": "execute_result"
    },
    {
     "data": {
      "image/png": "[encoded data removed]",
      "text/plain": [
       "<Figure size 500x500 with 1 Axes>"
      ]
     },
     "metadata": {},
     "output_type": "display_data"
    }
   ],
   "source": [
    "df_crabs = pd.DataFrame(dataset[1:][:-1], columns = dataset[0])\n",
    "\n",
    "age_list = [int(i) for i in df_crabs[df_crabs.columns[-1]]]\n",
    "age_list.sort()\n",
    "\n",
    "sns.displot(age_list, kde = True)"
   ]
  },
  {
   "cell_type": "code",
   "execution_count": 5,
   "id": "67e17d1c",
   "metadata": {},
   "outputs": [],
   "source": [
    "X_train, X_test, Y_train, Y_test = train_test_split(df_crabs[df_crabs.columns[:-1]], df_crabs[\"Age\"], test_size = 0.6)"
   ]
  },
  {
   "cell_type": "code",
   "execution_count": 6,
   "id": "e6f44a4e",
   "metadata": {},
   "outputs": [],
   "source": [
    "scaler = StandardScaler()\n",
    "scaler.fit(X_train)\n",
    "X_train_scaled = scaler.transform(X_train)\n",
    "X_test_scaled = scaler.transform(X_test)"
   ]
  },
  {
   "cell_type": "code",
   "execution_count": 7,
   "id": "ad770dba",
   "metadata": {},
   "outputs": [
    {
     "data": {
      "text/plain": [
       "LinearRegression(n_jobs=-1)"
      ]
     },
     "execution_count": 7,
     "metadata": {},
     "output_type": "execute_result"
    }
   ],
   "source": [
    "linear_model = LinearRegression(n_jobs = -1)\n",
    "linear_model.fit(X_train_scaled, Y_train)"
   ]
  },
  {
   "cell_type": "code",
   "execution_count": 8,
   "id": "e02c4964",
   "metadata": {},
   "outputs": [
    {
     "data": {
      "text/plain": [
       "array([10.81658046,  6.17345289,  9.38634889, ...,  7.42742116,\n",
       "       10.43418156,  8.69870635])"
      ]
     },
     "execution_count": 8,
     "metadata": {},
     "output_type": "execute_result"
    }
   ],
   "source": [
    "linear_model.predict(X_test_scaled)"
   ]
  },
  {
   "cell_type": "code",
   "execution_count": 9,
   "id": "afa7138c",
   "metadata": {},
   "outputs": [],
   "source": [
    "Y_test_converted = Y_test.astype(float)"
   ]
  },
  {
   "cell_type": "code",
   "execution_count": 10,
   "id": "a919620b",
   "metadata": {},
   "outputs": [
    {
     "name": "stdout",
     "output_type": "stream",
     "text": [
      "R^2: 0.5157909935857439\n",
      "RSS: 11541.224272103904\n",
      "RMSE: 2.22274438076812\n",
      "MAE: 1.606988457085389\n"
     ]
    }
   ],
   "source": [
    "def print_statistics(y_true, y_pred):\n",
    "    rss = np.sum((y_true - y_pred) ** 2)\n",
    "    ss = np.sum((y_true - y_true.mean()) ** 2)\n",
    "    print(f\"R^2: {1 - rss/ss}\")\n",
    "    print(f\"RSS: {rss}\")\n",
    "    print(f\"RMSE: {np.sqrt(np.mean((y_true - y_pred) ** 2))}\")\n",
    "    print(f\"MAE: {np.mean(abs(y_true - y_pred))}\")\n",
    "    \n",
    "y_pred = linear_model.predict(X_test_scaled)\n",
    "print_statistics(Y_test_converted, y_pred)"
   ]
  }
 ],
 "metadata": {
  "kernelspec": {
   "display_name": "Python 3 (ipykernel)",
   "language": "python",
   "name": "python3"
  },
  "language_info": {
   "codemirror_mode": {
    "name": "ipython",
    "version": 3
   },
   "file_extension": ".py",
   "mimetype": "text/x-python",
   "name": "python",
   "nbconvert_exporter": "python",
   "pygments_lexer": "ipython3",
   "version": "3.9.13"
  }
 },
 "nbformat": 4,
 "nbformat_minor": 5
}
